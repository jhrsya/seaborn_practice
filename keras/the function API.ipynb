{
 "cells": [
  {
   "cell_type": "code",
   "execution_count": 1,
   "metadata": {},
   "outputs": [],
   "source": [
    "import numpy as np\n",
    "import tensorflow as tf\n",
    "from tensorflow import keras\n",
    "from tensorflow.keras import layers\n",
    "\n",
    "\n",
    "inputs = keras.Input(shape = (784,))"
   ]
  },
  {
   "cell_type": "code",
   "execution_count": 2,
   "metadata": {},
   "outputs": [
    {
     "name": "stdout",
     "output_type": "stream",
     "text": [
      "(None, 784)\n"
     ]
    }
   ],
   "source": [
    "print(inputs.shape)"
   ]
  },
  {
   "cell_type": "code",
   "execution_count": 3,
   "metadata": {},
   "outputs": [
    {
     "name": "stderr",
     "output_type": "stream",
     "text": [
      "2021-11-29 10:34:20.239292: I tensorflow/stream_executor/platform/default/dso_loader.cc:44] Successfully opened dynamic library libcuda.so.1\n",
      "2021-11-29 10:34:20.501167: I tensorflow/core/common_runtime/gpu/gpu_device.cc:1561] Found device 0 with properties: \n",
      "pciBusID: 0000:04:00.0 name: GeForce RTX 2080 Ti computeCapability: 7.5\n",
      "coreClock: 1.62GHz coreCount: 68 deviceMemorySize: 10.76GiB deviceMemoryBandwidth: 573.69GiB/s\n",
      "2021-11-29 10:34:20.504393: I tensorflow/core/common_runtime/gpu/gpu_device.cc:1561] Found device 1 with properties: \n",
      "pciBusID: 0000:05:00.0 name: GeForce RTX 2080 Ti computeCapability: 7.5\n",
      "coreClock: 1.545GHz coreCount: 68 deviceMemorySize: 10.76GiB deviceMemoryBandwidth: 573.69GiB/s\n",
      "2021-11-29 10:34:20.508860: I tensorflow/core/common_runtime/gpu/gpu_device.cc:1561] Found device 2 with properties: \n",
      "pciBusID: 0000:06:00.0 name: GeForce RTX 2080 Ti computeCapability: 7.5\n",
      "coreClock: 1.545GHz coreCount: 68 deviceMemorySize: 10.76GiB deviceMemoryBandwidth: 573.69GiB/s\n",
      "2021-11-29 10:34:20.511857: I tensorflow/core/common_runtime/gpu/gpu_device.cc:1561] Found device 3 with properties: \n",
      "pciBusID: 0000:07:00.0 name: GeForce RTX 2080 Ti computeCapability: 7.5\n",
      "coreClock: 1.545GHz coreCount: 68 deviceMemorySize: 10.76GiB deviceMemoryBandwidth: 573.69GiB/s\n",
      "2021-11-29 10:34:20.514859: I tensorflow/core/common_runtime/gpu/gpu_device.cc:1561] Found device 4 with properties: \n",
      "pciBusID: 0000:08:00.0 name: GeForce RTX 2080 Ti computeCapability: 7.5\n",
      "coreClock: 1.545GHz coreCount: 68 deviceMemorySize: 10.76GiB deviceMemoryBandwidth: 573.69GiB/s\n",
      "2021-11-29 10:34:20.517662: I tensorflow/core/common_runtime/gpu/gpu_device.cc:1561] Found device 5 with properties: \n",
      "pciBusID: 0000:0b:00.0 name: GeForce RTX 2080 Ti computeCapability: 7.5\n",
      "coreClock: 1.545GHz coreCount: 68 deviceMemorySize: 10.76GiB deviceMemoryBandwidth: 573.69GiB/s\n",
      "2021-11-29 10:34:20.520363: I tensorflow/core/common_runtime/gpu/gpu_device.cc:1561] Found device 6 with properties: \n",
      "pciBusID: 0000:0c:00.0 name: GeForce RTX 2080 Ti computeCapability: 7.5\n",
      "coreClock: 1.545GHz coreCount: 68 deviceMemorySize: 10.76GiB deviceMemoryBandwidth: 573.69GiB/s\n",
      "2021-11-29 10:34:20.522983: I tensorflow/core/common_runtime/gpu/gpu_device.cc:1561] Found device 7 with properties: \n",
      "pciBusID: 0000:0d:00.0 name: GeForce RTX 2080 Ti computeCapability: 7.5\n",
      "coreClock: 1.545GHz coreCount: 68 deviceMemorySize: 10.76GiB deviceMemoryBandwidth: 573.69GiB/s\n",
      "2021-11-29 10:34:20.526320: I tensorflow/core/common_runtime/gpu/gpu_device.cc:1561] Found device 8 with properties: \n",
      "pciBusID: 0000:0e:00.0 name: GeForce RTX 2080 Ti computeCapability: 7.5\n",
      "coreClock: 1.545GHz coreCount: 68 deviceMemorySize: 10.76GiB deviceMemoryBandwidth: 573.69GiB/s\n",
      "2021-11-29 10:34:20.529232: I tensorflow/core/common_runtime/gpu/gpu_device.cc:1561] Found device 9 with properties: \n",
      "pciBusID: 0000:0f:00.0 name: GeForce RTX 2080 Ti computeCapability: 7.5\n",
      "coreClock: 1.545GHz coreCount: 68 deviceMemorySize: 10.76GiB deviceMemoryBandwidth: 573.69GiB/s\n",
      "2021-11-29 10:34:20.529753: I tensorflow/stream_executor/platform/default/dso_loader.cc:44] Successfully opened dynamic library libcudart.so.10.1\n",
      "2021-11-29 10:34:20.535226: I tensorflow/stream_executor/platform/default/dso_loader.cc:44] Successfully opened dynamic library libcublas.so.10\n",
      "2021-11-29 10:34:20.538115: I tensorflow/stream_executor/platform/default/dso_loader.cc:44] Successfully opened dynamic library libcufft.so.10\n",
      "2021-11-29 10:34:20.538807: I tensorflow/stream_executor/platform/default/dso_loader.cc:44] Successfully opened dynamic library libcurand.so.10\n",
      "2021-11-29 10:34:20.544085: I tensorflow/stream_executor/platform/default/dso_loader.cc:44] Successfully opened dynamic library libcusolver.so.10\n",
      "2021-11-29 10:34:20.546032: I tensorflow/stream_executor/platform/default/dso_loader.cc:44] Successfully opened dynamic library libcusparse.so.10\n",
      "2021-11-29 10:34:20.555246: I tensorflow/stream_executor/platform/default/dso_loader.cc:44] Successfully opened dynamic library libcudnn.so.7\n",
      "2021-11-29 10:34:20.643658: I tensorflow/core/common_runtime/gpu/gpu_device.cc:1703] Adding visible gpu devices: 0, 1, 2, 3, 4, 5, 6, 7, 8, 9\n",
      "2021-11-29 10:34:20.646172: I tensorflow/core/platform/cpu_feature_guard.cc:143] Your CPU supports instructions that this TensorFlow binary was not compiled to use: AVX2 FMA\n",
      "2021-11-29 10:34:20.724402: I tensorflow/core/platform/profile_utils/cpu_utils.cc:102] CPU Frequency: 2200005000 Hz\n",
      "2021-11-29 10:34:20.727821: I tensorflow/compiler/xla/service/service.cc:168] XLA service 0x7f4920000b20 initialized for platform Host (this does not guarantee that XLA will be used). Devices:\n",
      "2021-11-29 10:34:20.727870: I tensorflow/compiler/xla/service/service.cc:176]   StreamExecutor device (0): Host, Default Version\n",
      "2021-11-29 10:34:28.955440: I tensorflow/compiler/xla/service/service.cc:168] XLA service 0x7f47f0000b20 initialized for platform CUDA (this does not guarantee that XLA will be used). Devices:\n",
      "2021-11-29 10:34:28.955507: I tensorflow/compiler/xla/service/service.cc:176]   StreamExecutor device (0): GeForce RTX 2080 Ti, Compute Capability 7.5\n",
      "2021-11-29 10:34:28.955523: I tensorflow/compiler/xla/service/service.cc:176]   StreamExecutor device (1): GeForce RTX 2080 Ti, Compute Capability 7.5\n",
      "2021-11-29 10:34:28.955533: I tensorflow/compiler/xla/service/service.cc:176]   StreamExecutor device (2): GeForce RTX 2080 Ti, Compute Capability 7.5\n",
      "2021-11-29 10:34:28.955557: I tensorflow/compiler/xla/service/service.cc:176]   StreamExecutor device (3): GeForce RTX 2080 Ti, Compute Capability 7.5\n",
      "2021-11-29 10:34:28.955571: I tensorflow/compiler/xla/service/service.cc:176]   StreamExecutor device (4): GeForce RTX 2080 Ti, Compute Capability 7.5\n",
      "2021-11-29 10:34:28.955581: I tensorflow/compiler/xla/service/service.cc:176]   StreamExecutor device (5): GeForce RTX 2080 Ti, Compute Capability 7.5\n",
      "2021-11-29 10:34:28.955590: I tensorflow/compiler/xla/service/service.cc:176]   StreamExecutor device (6): GeForce RTX 2080 Ti, Compute Capability 7.5\n",
      "2021-11-29 10:34:28.955611: I tensorflow/compiler/xla/service/service.cc:176]   StreamExecutor device (7): GeForce RTX 2080 Ti, Compute Capability 7.5\n",
      "2021-11-29 10:34:28.955623: I tensorflow/compiler/xla/service/service.cc:176]   StreamExecutor device (8): GeForce RTX 2080 Ti, Compute Capability 7.5\n",
      "2021-11-29 10:34:28.955633: I tensorflow/compiler/xla/service/service.cc:176]   StreamExecutor device (9): GeForce RTX 2080 Ti, Compute Capability 7.5\n",
      "2021-11-29 10:34:28.971619: I tensorflow/core/common_runtime/gpu/gpu_device.cc:1561] Found device 0 with properties: \n",
      "pciBusID: 0000:04:00.0 name: GeForce RTX 2080 Ti computeCapability: 7.5\n",
      "coreClock: 1.62GHz coreCount: 68 deviceMemorySize: 10.76GiB deviceMemoryBandwidth: 573.69GiB/s\n",
      "2021-11-29 10:34:28.974369: I tensorflow/core/common_runtime/gpu/gpu_device.cc:1561] Found device 1 with properties: \n",
      "pciBusID: 0000:05:00.0 name: GeForce RTX 2080 Ti computeCapability: 7.5\n",
      "coreClock: 1.545GHz coreCount: 68 deviceMemorySize: 10.76GiB deviceMemoryBandwidth: 573.69GiB/s\n",
      "2021-11-29 10:34:28.977230: I tensorflow/core/common_runtime/gpu/gpu_device.cc:1561] Found device 2 with properties: \n",
      "pciBusID: 0000:06:00.0 name: GeForce RTX 2080 Ti computeCapability: 7.5\n",
      "coreClock: 1.545GHz coreCount: 68 deviceMemorySize: 10.76GiB deviceMemoryBandwidth: 573.69GiB/s\n",
      "2021-11-29 10:34:28.979659: I tensorflow/core/common_runtime/gpu/gpu_device.cc:1561] Found device 3 with properties: \n",
      "pciBusID: 0000:07:00.0 name: GeForce RTX 2080 Ti computeCapability: 7.5\n",
      "coreClock: 1.545GHz coreCount: 68 deviceMemorySize: 10.76GiB deviceMemoryBandwidth: 573.69GiB/s\n",
      "2021-11-29 10:34:28.981814: I tensorflow/core/common_runtime/gpu/gpu_device.cc:1561] Found device 4 with properties: \n",
      "pciBusID: 0000:08:00.0 name: GeForce RTX 2080 Ti computeCapability: 7.5\n",
      "coreClock: 1.545GHz coreCount: 68 deviceMemorySize: 10.76GiB deviceMemoryBandwidth: 573.69GiB/s\n",
      "2021-11-29 10:34:28.984489: I tensorflow/core/common_runtime/gpu/gpu_device.cc:1561] Found device 5 with properties: \n",
      "pciBusID: 0000:0b:00.0 name: GeForce RTX 2080 Ti computeCapability: 7.5\n",
      "coreClock: 1.545GHz coreCount: 68 deviceMemorySize: 10.76GiB deviceMemoryBandwidth: 573.69GiB/s\n",
      "2021-11-29 10:34:28.986691: I tensorflow/core/common_runtime/gpu/gpu_device.cc:1561] Found device 6 with properties: \n",
      "pciBusID: 0000:0c:00.0 name: GeForce RTX 2080 Ti computeCapability: 7.5\n",
      "coreClock: 1.545GHz coreCount: 68 deviceMemorySize: 10.76GiB deviceMemoryBandwidth: 573.69GiB/s\n",
      "2021-11-29 10:34:28.988924: I tensorflow/core/common_runtime/gpu/gpu_device.cc:1561] Found device 7 with properties: \n",
      "pciBusID: 0000:0d:00.0 name: GeForce RTX 2080 Ti computeCapability: 7.5\n",
      "coreClock: 1.545GHz coreCount: 68 deviceMemorySize: 10.76GiB deviceMemoryBandwidth: 573.69GiB/s\n",
      "2021-11-29 10:34:28.990930: I tensorflow/core/common_runtime/gpu/gpu_device.cc:1561] Found device 8 with properties: \n",
      "pciBusID: 0000:0e:00.0 name: GeForce RTX 2080 Ti computeCapability: 7.5\n",
      "coreClock: 1.545GHz coreCount: 68 deviceMemorySize: 10.76GiB deviceMemoryBandwidth: 573.69GiB/s\n",
      "2021-11-29 10:34:28.992631: I tensorflow/core/common_runtime/gpu/gpu_device.cc:1561] Found device 9 with properties: \n",
      "pciBusID: 0000:0f:00.0 name: GeForce RTX 2080 Ti computeCapability: 7.5\n",
      "coreClock: 1.545GHz coreCount: 68 deviceMemorySize: 10.76GiB deviceMemoryBandwidth: 573.69GiB/s\n",
      "2021-11-29 10:34:28.992726: I tensorflow/stream_executor/platform/default/dso_loader.cc:44] Successfully opened dynamic library libcudart.so.10.1\n",
      "2021-11-29 10:34:28.992749: I tensorflow/stream_executor/platform/default/dso_loader.cc:44] Successfully opened dynamic library libcublas.so.10\n",
      "2021-11-29 10:34:28.992769: I tensorflow/stream_executor/platform/default/dso_loader.cc:44] Successfully opened dynamic library libcufft.so.10\n",
      "2021-11-29 10:34:28.992784: I tensorflow/stream_executor/platform/default/dso_loader.cc:44] Successfully opened dynamic library libcurand.so.10\n",
      "2021-11-29 10:34:28.992800: I tensorflow/stream_executor/platform/default/dso_loader.cc:44] Successfully opened dynamic library libcusolver.so.10\n",
      "2021-11-29 10:34:28.992815: I tensorflow/stream_executor/platform/default/dso_loader.cc:44] Successfully opened dynamic library libcusparse.so.10\n",
      "2021-11-29 10:34:28.992833: I tensorflow/stream_executor/platform/default/dso_loader.cc:44] Successfully opened dynamic library libcudnn.so.7\n",
      "2021-11-29 10:34:29.024193: I tensorflow/core/common_runtime/gpu/gpu_device.cc:1703] Adding visible gpu devices: 0, 1, 2, 3, 4, 5, 6, 7, 8, 9\n",
      "2021-11-29 10:34:29.024289: I tensorflow/stream_executor/platform/default/dso_loader.cc:44] Successfully opened dynamic library libcudart.so.10.1\n",
      "2021-11-29 10:34:29.049358: I tensorflow/core/common_runtime/gpu/gpu_device.cc:1102] Device interconnect StreamExecutor with strength 1 edge matrix:\n",
      "2021-11-29 10:34:29.049419: I tensorflow/core/common_runtime/gpu/gpu_device.cc:1108]      0 1 2 3 4 5 6 7 8 9 \n",
      "2021-11-29 10:34:29.049433: I tensorflow/core/common_runtime/gpu/gpu_device.cc:1121] 0:   N N N N N N N N N N \n",
      "2021-11-29 10:34:29.049441: I tensorflow/core/common_runtime/gpu/gpu_device.cc:1121] 1:   N N N N N N N N N N \n",
      "2021-11-29 10:34:29.049450: I tensorflow/core/common_runtime/gpu/gpu_device.cc:1121] 2:   N N N N N N N N N N \n",
      "2021-11-29 10:34:29.049458: I tensorflow/core/common_runtime/gpu/gpu_device.cc:1121] 3:   N N N N N N N N N N \n",
      "2021-11-29 10:34:29.049466: I tensorflow/core/common_runtime/gpu/gpu_device.cc:1121] 4:   N N N N N N N N N N \n",
      "2021-11-29 10:34:29.049474: I tensorflow/core/common_runtime/gpu/gpu_device.cc:1121] 5:   N N N N N N N N N N \n",
      "2021-11-29 10:34:29.049482: I tensorflow/core/common_runtime/gpu/gpu_device.cc:1121] 6:   N N N N N N N N N N \n",
      "2021-11-29 10:34:29.049490: I tensorflow/core/common_runtime/gpu/gpu_device.cc:1121] 7:   N N N N N N N N N N \n",
      "2021-11-29 10:34:29.049498: I tensorflow/core/common_runtime/gpu/gpu_device.cc:1121] 8:   N N N N N N N N N N \n",
      "2021-11-29 10:34:29.049506: I tensorflow/core/common_runtime/gpu/gpu_device.cc:1121] 9:   N N N N N N N N N N \n",
      "2021-11-29 10:34:29.072409: I tensorflow/core/common_runtime/gpu/gpu_device.cc:1247] Created TensorFlow device (/job:localhost/replica:0/task:0/device:GPU:0 with 9800 MB memory) -> physical GPU (device: 0, name: GeForce RTX 2080 Ti, pci bus id: 0000:04:00.0, compute capability: 7.5)\n",
      "2021-11-29 10:34:29.081550: I tensorflow/core/common_runtime/gpu/gpu_device.cc:1247] Created TensorFlow device (/job:localhost/replica:0/task:0/device:GPU:1 with 10056 MB memory) -> physical GPU (device: 1, name: GeForce RTX 2080 Ti, pci bus id: 0000:05:00.0, compute capability: 7.5)\n",
      "2021-11-29 10:34:29.084317: I tensorflow/core/common_runtime/gpu/gpu_device.cc:1247] Created TensorFlow device (/job:localhost/replica:0/task:0/device:GPU:2 with 3855 MB memory) -> physical GPU (device: 2, name: GeForce RTX 2080 Ti, pci bus id: 0000:06:00.0, compute capability: 7.5)\n",
      "2021-11-29 10:34:29.094095: I tensorflow/core/common_runtime/gpu/gpu_device.cc:1247] Created TensorFlow device (/job:localhost/replica:0/task:0/device:GPU:3 with 4811 MB memory) -> physical GPU (device: 3, name: GeForce RTX 2080 Ti, pci bus id: 0000:07:00.0, compute capability: 7.5)\n",
      "2021-11-29 10:34:29.114330: I tensorflow/core/common_runtime/gpu/gpu_device.cc:1247] Created TensorFlow device (/job:localhost/replica:0/task:0/device:GPU:4 with 899 MB memory) -> physical GPU (device: 4, name: GeForce RTX 2080 Ti, pci bus id: 0000:08:00.0, compute capability: 7.5)\n",
      "2021-11-29 10:34:29.127252: I tensorflow/core/common_runtime/gpu/gpu_device.cc:1247] Created TensorFlow device (/job:localhost/replica:0/task:0/device:GPU:5 with 4049 MB memory) -> physical GPU (device: 5, name: GeForce RTX 2080 Ti, pci bus id: 0000:0b:00.0, compute capability: 7.5)\n",
      "2021-11-29 10:34:29.131488: I tensorflow/core/common_runtime/gpu/gpu_device.cc:1247] Created TensorFlow device (/job:localhost/replica:0/task:0/device:GPU:6 with 1820 MB memory) -> physical GPU (device: 6, name: GeForce RTX 2080 Ti, pci bus id: 0000:0c:00.0, compute capability: 7.5)\n",
      "2021-11-29 10:34:29.134146: I tensorflow/core/common_runtime/gpu/gpu_device.cc:1247] Created TensorFlow device (/job:localhost/replica:0/task:0/device:GPU:7 with 1893 MB memory) -> physical GPU (device: 7, name: GeForce RTX 2080 Ti, pci bus id: 0000:0d:00.0, compute capability: 7.5)\n",
      "2021-11-29 10:34:29.139845: I tensorflow/core/common_runtime/gpu/gpu_device.cc:1247] Created TensorFlow device (/job:localhost/replica:0/task:0/device:GPU:8 with 2067 MB memory) -> physical GPU (device: 8, name: GeForce RTX 2080 Ti, pci bus id: 0000:0e:00.0, compute capability: 7.5)\n",
      "2021-11-29 10:34:29.143012: I tensorflow/core/common_runtime/gpu/gpu_device.cc:1247] Created TensorFlow device (/job:localhost/replica:0/task:0/device:GPU:9 with 9047 MB memory) -> physical GPU (device: 9, name: GeForce RTX 2080 Ti, pci bus id: 0000:0f:00.0, compute capability: 7.5)\n"
     ]
    }
   ],
   "source": [
    "dense = layers.Dense(64,activation = 'relu')\n",
    "x = dense(inputs)"
   ]
  },
  {
   "cell_type": "code",
   "execution_count": 4,
   "metadata": {},
   "outputs": [],
   "source": [
    "x = layers.Dense(64, activation = 'relu')(x)\n",
    "outputs = layers.Dense(10,activation = 'softmax')(x)\n",
    "#记住最后要接一个softmax层"
   ]
  },
  {
   "cell_type": "code",
   "execution_count": 5,
   "metadata": {},
   "outputs": [],
   "source": [
    "model = keras.Model(inputs = inputs, outputs = outputs, name = \"mnist_model\")"
   ]
  },
  {
   "cell_type": "code",
   "execution_count": 6,
   "metadata": {},
   "outputs": [
    {
     "name": "stdout",
     "output_type": "stream",
     "text": [
      "Model: \"mnist_model\"\n",
      "_________________________________________________________________\n",
      "Layer (type)                 Output Shape              Param #   \n",
      "=================================================================\n",
      "input_1 (InputLayer)         [(None, 784)]             0         \n",
      "_________________________________________________________________\n",
      "dense (Dense)                (None, 64)                50240     \n",
      "_________________________________________________________________\n",
      "dense_1 (Dense)              (None, 64)                4160      \n",
      "_________________________________________________________________\n",
      "dense_2 (Dense)              (None, 10)                650       \n",
      "=================================================================\n",
      "Total params: 55,050\n",
      "Trainable params: 55,050\n",
      "Non-trainable params: 0\n",
      "_________________________________________________________________\n",
      "None\n"
     ]
    }
   ],
   "source": [
    "print(model.summary())"
   ]
  },
  {
   "cell_type": "code",
   "execution_count": 7,
   "metadata": {},
   "outputs": [
    {
     "data": {
      "image/png": "[encoded data removed]",
      "text/plain": [
       "<IPython.core.display.Image object>"
      ]
     },
     "execution_count": 7,
     "metadata": {},
     "output_type": "execute_result"
    }
   ],
   "source": [
    "# import pydot\n",
    "# import pydotplus\n",
    "# from pydotplus import graphviz\n",
    "keras.utils.plot_model(model, \"1.png\")"
   ]
  },
  {
   "cell_type": "code",
   "execution_count": 8,
   "metadata": {},
   "outputs": [
    {
     "data": {
      "image/png": "[encoded data removed]",
      "text/plain": [
       "<IPython.core.display.Image object>"
      ]
     },
     "execution_count": 8,
     "metadata": {},
     "output_type": "execute_result"
    }
   ],
   "source": [
    "keras.utils.plot_model(model, \"2.png\", show_shapes = True)"
   ]
  },
  {
   "cell_type": "markdown",
   "metadata": {},
   "source": [
    "使用keras.utils.plot_model(model, \"name\", show_shapes)传入模型，名字，show_shapes = True or False表示是否输出形状\n",
    "model.summary()可以输出模型的参数，层数\n",
    "keras与pytorch的对比，keras不用加上输出层的shape"
   ]
  },
  {
   "cell_type": "code",
   "execution_count": 9,
   "metadata": {},
   "outputs": [],
   "source": [
    "(x_train, y_train), (x_test, y_test) = keras.datasets.mnist.load_data()"
   ]
  },
  {
   "cell_type": "code",
   "execution_count": 10,
   "metadata": {},
   "outputs": [
    {
     "name": "stdout",
     "output_type": "stream",
     "text": [
      "(60000, 28, 28)\n",
      "(60000,)\n",
      "(10000, 28, 28)\n",
      "(10000,)\n"
     ]
    }
   ],
   "source": [
    "print(x_train.shape)\n",
    "print(y_train.shape)\n",
    "print(x_test.shape)\n",
    "print(y_test.shape)"
   ]
  },
  {
   "cell_type": "code",
   "execution_count": 11,
   "metadata": {},
   "outputs": [
    {
     "name": "stdout",
     "output_type": "stream",
     "text": [
      "(60000, 784)\n",
      "(10000, 784)\n"
     ]
    }
   ],
   "source": [
    "\n",
    "x_train = x_train.reshape(x_train.shape[0],-1).astype(\"float32\") / 255\n",
    "x_test = x_test.reshape(x_test.shape[0],-1).astype(\"float32\") / 255\n",
    "print(x_train.shape)\n",
    "print(x_test.shape)"
   ]
  },
  {
   "cell_type": "markdown",
   "metadata": {},
   "source": [
    "把单个图片二维向量转换为一维的，即拉平，因为输入数据就是要这样，拉平的方法是.reshape(x_train.shape[0], -1)\n",
    "注意一点，传入的数据必须是float32类型的，所以使用astype(\"float32\")进行类型转换\n",
    "还有除以255是因为像素值范围为[0,255]，除以255就可以使像素值变为[0,1]\n"
   ]
  },
  {
   "cell_type": "code",
   "execution_count": 12,
   "metadata": {},
   "outputs": [],
   "source": [
    "#对模型进行配置\n",
    "model.compile(loss = keras.losses.SparseCategoricalCrossentropy(from_logits = True),\n",
    "             optimizer = keras.optimizers.RMSprop(),\n",
    "             metrics = ['accuracy'])"
   ]
  },
  {
   "cell_type": "markdown",
   "metadata": {},
   "source": [
    "1. 对模型需要配置什么呢？\n",
    "    -损失函数\n",
    "        - 通过keras.losses调用\n",
    "    -优化器\n",
    "        - 通过keras.optimizers, 注意不要少了s\n",
    "    -评估方法\n",
    "        - 直接使用metrics = 就可以使用了"
   ]
  },
  {
   "cell_type": "code",
   "execution_count": 13,
   "metadata": {},
   "outputs": [
    {
     "name": "stdout",
     "output_type": "stream",
     "text": [
      "Epoch 1/10\n"
     ]
    },
    {
     "name": "stderr",
     "output_type": "stream",
     "text": [
      "2021-11-29 10:34:34.150012: I tensorflow/stream_executor/platform/default/dso_loader.cc:44] Successfully opened dynamic library libcublas.so.10\n"
     ]
    },
    {
     "name": "stdout",
     "output_type": "stream",
     "text": [
      "750/750 [==============================] - 3s 4ms/step - loss: 1.6028 - accuracy: 0.8832 - val_loss: 1.5379 - val_accuracy: 0.9285\n",
      "Epoch 2/10\n",
      "750/750 [==============================] - 3s 3ms/step - loss: 1.5311 - accuracy: 0.9353 - val_loss: 1.5222 - val_accuracy: 0.9441\n",
      "Epoch 3/10\n",
      "750/750 [==============================] - 3s 4ms/step - loss: 1.5161 - accuracy: 0.9484 - val_loss: 1.5145 - val_accuracy: 0.9499\n",
      "Epoch 4/10\n",
      "750/750 [==============================] - 3s 4ms/step - loss: 1.5075 - accuracy: 0.9561 - val_loss: 1.5066 - val_accuracy: 0.9570\n",
      "Epoch 5/10\n",
      "750/750 [==============================] - 3s 3ms/step - loss: 1.5014 - accuracy: 0.9619 - val_loss: 1.5009 - val_accuracy: 0.9617\n",
      "Epoch 6/10\n",
      "750/750 [==============================] - 3s 4ms/step - loss: 1.4973 - accuracy: 0.9654 - val_loss: 1.5024 - val_accuracy: 0.9598\n",
      "Epoch 7/10\n",
      "750/750 [==============================] - 2s 3ms/step - loss: 1.4934 - accuracy: 0.9693 - val_loss: 1.4985 - val_accuracy: 0.9644\n",
      "Epoch 8/10\n",
      "750/750 [==============================] - 3s 4ms/step - loss: 1.4907 - accuracy: 0.9721 - val_loss: 1.4968 - val_accuracy: 0.9654\n",
      "Epoch 9/10\n",
      "750/750 [==============================] - 3s 4ms/step - loss: 1.4880 - accuracy: 0.9747 - val_loss: 1.4984 - val_accuracy: 0.9638\n",
      "Epoch 10/10\n",
      "750/750 [==============================] - 3s 4ms/step - loss: 1.4862 - accuracy: 0.9758 - val_loss: 1.4966 - val_accuracy: 0.9654\n"
     ]
    }
   ],
   "source": [
    "#拟合\n",
    "\n",
    "history = model.fit(x_train, y_train, batch_size = 64, epochs = 10, validation_split = 0.2)"
   ]
  },
  {
   "cell_type": "markdown",
   "metadata": {},
   "source": [
    "用模型进行拟合需要训练数据和训练标签，batch_size大小，跑多少个epochs，还有要给出总的训练数据集中要给出多大比例给验证集"
   ]
  },
  {
   "cell_type": "code",
   "execution_count": 14,
   "metadata": {},
   "outputs": [
    {
     "name": "stdout",
     "output_type": "stream",
     "text": [
      "313/313 [==============================] - 1s 2ms/step - loss: 1.4958 - accuracy: 0.9661\n",
      "test loss:  1.4957926273345947\n",
      "test accuracy:  0.9660999774932861\n",
      "<class 'list'>\n"
     ]
    }
   ],
   "source": [
    "test_scores = model.evaluate(x_test, y_test, verbose = 1)\n",
    "print(\"test loss: \",test_scores[0])\n",
    "print(\"test accuracy: \", test_scores[1])\n",
    "print(type(test_scores))"
   ]
  },
  {
   "cell_type": "markdown",
   "metadata": {},
   "source": [
    "用来评估的方法model.evaluate(x_test, y_test, verbose)用来传入测试集数据和标签，verbose = 0 or 1, 0表示没有进度条，1表示有进度条，默认是1，即有进度条\n",
    "有一个问题，就是model.evaluate()方法返回的是什么？返回的是一个列表，第一个元素是loss，第二个元素是accuracy(这里是取决于配置模型时使用的评估方法是什么，这里使用的是准确率，那么自然这里也是准确率了)"
   ]
  },
  {
   "cell_type": "code",
   "execution_count": 19,
   "metadata": {},
   "outputs": [
    {
     "name": "stdout",
     "output_type": "stream",
     "text": [
      "INFO:tensorflow:Assets written to: /data2/huchaowen/practice/assets\n",
      "313/313 [==============================] - 1s 2ms/step - loss: 1.4940 - accuracy: 0.9673\n",
      "test loss: 1.4940\n",
      "test acc: 0.9673\n"
     ]
    }
   ],
   "source": [
    "#保存训练好的模型（其实是保存训练好的参数），使用保存好的模型\n",
    "model.save(\"/data2/huchaowen/practice/\")\n",
    "# def model\n",
    "model1 = keras.models.load_model(\"my_model\")\n",
    "test1 = model1.evaluate(x_test, y_test)\n",
    "print(\"test loss: {:.4f}\".format(test1[0]))\n",
    "print(\"test acc: {:.4f}\".format(test1[1]))"
   ]
  },
  {
   "cell_type": "markdown",
   "metadata": {},
   "source": [
    "这里有个一很坑的地方,model.save()里的是模型要保存的目录，而不是你给它命名，保存的名字默认为my_model，现在我还没找到可以修改这个默认名字的方法"
   ]
  },
  {
   "cell_type": "code",
   "execution_count": 21,
   "metadata": {},
   "outputs": [
    {
     "name": "stdout",
     "output_type": "stream",
     "text": [
      "[array([[-0.07744601,  0.06902688, -0.00539997, ..., -0.04684789,\n",
      "        -0.01741691, -0.03957702],\n",
      "       [-0.04584838,  0.05346998,  0.05864095, ..., -0.06181758,\n",
      "        -0.03088862,  0.02434593],\n",
      "       [-0.01248859, -0.01038989,  0.0201316 , ..., -0.00076718,\n",
      "        -0.04344596, -0.06276397],\n",
      "       ...,\n",
      "       [ 0.00253003, -0.02845993, -0.03804917, ...,  0.04995657,\n",
      "        -0.00147421,  0.01805824],\n",
      "       [ 0.03032019,  0.00424672,  0.03504729, ...,  0.05230277,\n",
      "         0.01494959,  0.06454083],\n",
      "       [-0.06374411, -0.0699092 ,  0.00233578, ..., -0.02926208,\n",
      "         0.01966304,  0.02125912]], dtype=float32), array([ 0.1948067 ,  0.10749257, -0.03640361,  0.03975051,  0.09063185,\n",
      "        0.0724631 ,  0.00380641,  0.11869089,  0.08446215, -0.02273125,\n",
      "       -0.01872205,  0.0280512 ,  0.0306001 , -0.00739918, -0.08763626,\n",
      "        0.07707532, -0.02132565,  0.01739914,  0.02181421,  0.00298044,\n",
      "       -0.00557109,  0.10279206, -0.12207122,  0.19335118,  0.00892182,\n",
      "       -0.04811408,  0.05833839,  0.02761398, -0.0775708 ,  0.10111385,\n",
      "       -0.02545873, -0.0614593 ,  0.02308612, -0.09274803, -0.05991998,\n",
      "        0.09450996,  0.12699126, -0.00829479, -0.03925647, -0.00428718,\n",
      "        0.05189289, -0.09035771,  0.12462017,  0.04014746, -0.08284178,\n",
      "        0.10284153, -0.17131428,  0.0673108 ,  0.09103039, -0.00274662,\n",
      "        0.09669246, -0.08519132, -0.03879964,  0.02237757,  0.00902512,\n",
      "       -0.04559535,  0.10971544,  0.1733135 ,  0.07953972,  0.02426698,\n",
      "       -0.12356806, -0.08139542,  0.07818666, -0.00314409], dtype=float32), array([[ 0.16141583,  0.110659  ,  0.03595927, ...,  0.11030005,\n",
      "         0.1711676 ,  0.0734199 ],\n",
      "       [ 0.19449672,  0.14863689,  0.11624287, ...,  0.03797407,\n",
      "        -0.01446913, -0.32343256],\n",
      "       [ 0.19393452, -0.01148216, -0.09958096, ...,  0.28302473,\n",
      "        -0.26215526,  0.0824637 ],\n",
      "       ...,\n",
      "       [ 0.05538498, -0.14928748,  0.3497485 , ...,  0.03806829,\n",
      "        -0.07816932, -0.18250304],\n",
      "       [-0.07762858,  0.09300849, -0.23109674, ...,  0.05678723,\n",
      "         0.1519393 , -0.00103579],\n",
      "       [ 0.1459041 ,  0.3698899 ,  0.0354485 , ...,  0.47988337,\n",
      "        -0.40772712, -0.39563406]], dtype=float32), array([ 0.08290839,  0.00950804,  0.14378045, -0.04836109,  0.02570684,\n",
      "        0.14915988,  0.05859052,  0.02174288,  0.09851844, -0.06542947,\n",
      "        0.0619169 ,  0.06592523, -0.03583888,  0.10080205,  0.02461979,\n",
      "        0.02087468,  0.04387906,  0.08938438, -0.00125985,  0.01905088,\n",
      "        0.0132991 ,  0.0037367 ,  0.01126697,  0.12745462,  0.02694137,\n",
      "       -0.05436049, -0.02393201,  0.02933372, -0.01654594, -0.00657822,\n",
      "        0.12443195,  0.00613899, -0.03139091,  0.10956247,  0.0673879 ,\n",
      "        0.14749014,  0.09758302,  0.20416863,  0.10088085,  0.04989914,\n",
      "       -0.09175347,  0.00089926,  0.04809517,  0.07361013,  0.11860616,\n",
      "       -0.02316848,  0.12152337,  0.04596192,  0.10716631,  0.07912633,\n",
      "        0.01011188, -0.09427989,  0.13565074, -0.0230356 , -0.06116715,\n",
      "        0.07845905, -0.05355768, -0.073985  , -0.02631836,  0.05316437,\n",
      "       -0.04323084, -0.03779859,  0.1395098 ,  0.14269227], dtype=float32), array([[ 1.94861755e-01,  8.68504792e-02, -4.17048484e-02,\n",
      "        -2.12805510e-01, -5.81117749e-01,  4.47455406e-01,\n",
      "         3.10654759e-01, -2.30244659e-02, -4.89685386e-02,\n",
      "        -3.32097888e-01],\n",
      "       [-4.99975383e-02, -3.47564787e-01,  3.60275656e-02,\n",
      "         9.77981314e-02, -6.20604694e-01, -3.63295060e-03,\n",
      "        -4.03242588e-01,  4.77111995e-01, -2.77343452e-01,\n",
      "        -6.00810111e-01],\n",
      "       [-3.75315547e-01,  1.24520659e-01, -3.71204495e-01,\n",
      "        -1.14239929e-02, -3.94354969e-01,  5.25984168e-01,\n",
      "        -5.50206155e-02, -7.22856581e-01, -5.36065437e-02,\n",
      "         1.30825341e-01],\n",
      "       [ 1.83596238e-01,  1.41797155e-01,  1.14328884e-01,\n",
      "         2.94353783e-01, -5.05209386e-01, -1.66647971e-01,\n",
      "        -2.84879152e-02,  2.72009075e-01, -1.44428432e-01,\n",
      "        -7.15449870e-01],\n",
      "       [-7.69516081e-02,  4.17697608e-01, -8.14006746e-01,\n",
      "        -4.44742590e-01, -1.93993747e-02, -2.96891242e-01,\n",
      "        -4.24141735e-01, -2.82353789e-01, -5.30203581e-01,\n",
      "        -3.91284287e-01],\n",
      "       [ 2.52484698e-02, -4.27631676e-01,  1.59077674e-01,\n",
      "         1.64668068e-01,  8.79600123e-02,  3.00014257e-01,\n",
      "        -6.79103196e-01, -2.45935053e-01, -3.61110866e-01,\n",
      "         4.80418056e-02],\n",
      "       [ 1.57758310e-01,  2.14654282e-01,  1.88880831e-01,\n",
      "        -1.54633848e-02, -6.70387149e-01,  9.40094367e-02,\n",
      "        -3.75915676e-01, -3.74421567e-01, -1.69850513e-01,\n",
      "         1.71502337e-01],\n",
      "       [-2.36953154e-01,  9.62224081e-02,  6.64043799e-02,\n",
      "         1.71983898e-01, -2.27882147e-01,  5.30524999e-02,\n",
      "        -1.76746458e-01,  1.07959799e-01, -5.97889185e-01,\n",
      "         6.74190670e-02],\n",
      "       [ 6.04002364e-03, -5.84523201e-01, -3.44273120e-01,\n",
      "         1.46480381e-01, -3.04108620e-01,  3.39077443e-01,\n",
      "        -3.73016864e-01,  2.99977034e-01,  2.60185391e-01,\n",
      "        -8.04121196e-02],\n",
      "       [ 2.50282921e-02,  2.06385031e-01,  2.79619396e-01,\n",
      "         1.17172249e-01, -6.20652318e-01, -2.54925221e-01,\n",
      "        -3.30728292e-01,  2.07727909e-01,  4.15838957e-01,\n",
      "         1.77220325e-03],\n",
      "       [-1.00822061e-01, -3.68231386e-01, -4.95237976e-01,\n",
      "        -2.52155885e-02, -3.52780700e-01,  1.13411143e-01,\n",
      "        -3.17209989e-01, -2.10926924e-02, -8.28575417e-02,\n",
      "         2.55570322e-01],\n",
      "       [-4.65934873e-01,  1.59564808e-01, -6.31740928e-01,\n",
      "        -3.40448946e-01, -3.30358177e-01,  1.50266647e-01,\n",
      "        -6.78740859e-01, -3.65315005e-02, -3.49599779e-01,\n",
      "         6.19265921e-02],\n",
      "       [-2.25003421e-01,  3.54947150e-01,  5.01090474e-02,\n",
      "        -3.51684898e-01, -4.39094394e-01, -3.22961956e-01,\n",
      "        -4.55420136e-01,  5.47230422e-01, -1.80110663e-01,\n",
      "        -4.35528696e-01],\n",
      "       [ 1.02017552e-01,  2.08283782e-01,  1.67875737e-01,\n",
      "        -1.79550380e-01, -6.96127474e-01,  4.09067929e-01,\n",
      "        -4.89247352e-01,  3.16452801e-01, -2.82317430e-01,\n",
      "        -1.17167004e-03],\n",
      "       [ 3.19195718e-01,  2.70491511e-01, -5.23081422e-01,\n",
      "        -5.57440937e-01,  2.41179168e-01, -3.25415492e-01,\n",
      "         2.34484784e-02,  3.28036070e-01,  1.97635442e-01,\n",
      "        -2.63121426e-01],\n",
      "       [-5.62554002e-01,  6.51402235e-01, -1.16255425e-01,\n",
      "        -7.63222948e-02, -1.82174891e-01, -4.39119011e-01,\n",
      "        -1.23724803e-01, -4.09418166e-01, -5.68367839e-01,\n",
      "         1.51092268e-03],\n",
      "       [-4.49673206e-01, -7.80895472e-01, -5.54495275e-01,\n",
      "         2.07271591e-01, -2.19931036e-01, -3.07984263e-01,\n",
      "        -1.48306832e-01, -2.86120564e-01,  9.85659584e-02,\n",
      "         3.83568257e-01],\n",
      "       [-4.10609871e-01, -2.49386253e-03, -3.39866608e-01,\n",
      "         4.07802731e-01, -1.35035530e-01, -8.26205909e-02,\n",
      "        -7.26360500e-01, -2.82624930e-01, -7.58906677e-02,\n",
      "         3.47106069e-01],\n",
      "       [-2.56545603e-01,  4.01784889e-02,  9.17659625e-02,\n",
      "         1.29386857e-01, -1.27980113e-02, -3.53028834e-01,\n",
      "        -1.73921913e-01, -2.48076275e-01,  5.70945479e-02,\n",
      "        -3.98273468e-01],\n",
      "       [-3.43861312e-01,  5.11711761e-02, -4.49677974e-01,\n",
      "         8.14745426e-02,  1.08148746e-01, -6.31246030e-01,\n",
      "        -3.53758574e-01, -2.64228672e-01,  2.01005414e-01,\n",
      "        -9.88052934e-02],\n",
      "       [ 3.26948732e-01, -4.14711535e-02,  2.75181711e-01,\n",
      "         4.01822887e-02, -2.33588085e-01,  5.75390160e-02,\n",
      "         3.84083122e-01, -6.75872624e-01, -2.48888239e-01,\n",
      "        -3.73760283e-01],\n",
      "       [ 2.62121975e-01, -8.35513994e-02, -4.92887557e-01,\n",
      "         8.78402889e-02,  1.15272358e-01, -4.18416858e-01,\n",
      "         4.23020840e-01,  3.64364654e-01,  9.13646631e-03,\n",
      "         5.72769195e-02],\n",
      "       [-4.27152485e-01,  1.04074426e-01, -4.45740700e-01,\n",
      "         1.85545310e-01,  1.72685325e-01, -9.11818668e-02,\n",
      "         2.86096931e-01, -1.89724252e-01, -6.07582368e-03,\n",
      "         1.11730345e-01],\n",
      "       [ 1.25474945e-01, -1.23233289e-01, -5.12772083e-01,\n",
      "        -1.83323294e-01, -8.05368349e-02,  1.79368868e-01,\n",
      "        -1.68104187e-01,  1.74884215e-01, -4.88635004e-02,\n",
      "         2.46506453e-01],\n",
      "       [ 1.11567907e-01, -2.39092261e-01, -4.46857572e-01,\n",
      "         1.41943246e-01, -2.03590374e-02,  3.29049647e-01,\n",
      "        -3.88337448e-02, -2.29675487e-01, -4.16017503e-01,\n",
      "        -2.51442850e-01],\n",
      "       [-3.98295164e-01,  3.18939954e-01, -2.85375744e-01,\n",
      "         7.87402317e-02,  2.36736730e-01, -1.78159088e-01,\n",
      "         1.58200413e-01,  4.95509535e-01, -2.60075510e-01,\n",
      "        -6.51320755e-01],\n",
      "       [-1.73255950e-01, -1.34986028e-01, -1.10766612e-01,\n",
      "         3.92110571e-02,  1.93236500e-01,  1.80066451e-01,\n",
      "        -1.65402979e-01,  5.93498945e-02, -1.22266032e-01,\n",
      "         2.14783818e-01],\n",
      "       [-2.93416798e-01, -2.71390229e-01,  3.10240418e-01,\n",
      "        -4.34543192e-01, -5.84564686e-01, -1.23924604e-02,\n",
      "         2.29560331e-01, -3.07302892e-01, -3.64556819e-01,\n",
      "         4.42458987e-02],\n",
      "       [ 3.49300414e-01,  1.69189021e-01,  4.44059163e-01,\n",
      "        -4.00223285e-01,  2.25786552e-01, -6.16476357e-01,\n",
      "         1.79453433e-01,  1.28334731e-01, -5.17100632e-01,\n",
      "         1.08464323e-01],\n",
      "       [-6.31436467e-01,  3.26753199e-01,  2.71500796e-01,\n",
      "        -1.22918874e-01,  1.37882456e-01, -2.22092047e-01,\n",
      "        -3.40158880e-01,  1.56751856e-01, -4.66532260e-01,\n",
      "        -2.29437411e-01],\n",
      "       [-4.86028552e-01, -6.41945228e-02,  2.20392138e-01,\n",
      "        -9.55758244e-02,  1.42382473e-01, -9.61483717e-02,\n",
      "        -3.29848677e-02,  3.59989375e-01, -5.52490234e-01,\n",
      "         6.60680309e-02],\n",
      "       [-1.86817020e-01, -3.82983893e-01,  2.79497474e-01,\n",
      "         4.04252291e-01, -3.91449660e-01, -3.09124351e-01,\n",
      "        -6.39246106e-01,  2.39193104e-02,  3.75894159e-02,\n",
      "        -9.91020128e-02],\n",
      "       [-2.70890236e-01,  2.69033574e-02,  7.29953274e-02,\n",
      "         4.99177352e-02,  1.86508909e-01, -1.98829547e-01,\n",
      "         1.75798699e-01, -4.59269613e-01,  2.13723212e-01,\n",
      "         1.12973370e-01],\n",
      "       [-2.31922045e-01, -1.49895713e-01, -2.47343495e-01,\n",
      "        -6.10041559e-01,  3.48299831e-01,  1.13643214e-01,\n",
      "         2.22022668e-01,  2.26896241e-01,  3.71304482e-01,\n",
      "         2.53375739e-01],\n",
      "       [-5.50783575e-01,  2.93013126e-01,  3.51318158e-02,\n",
      "        -9.09786448e-02,  3.74823570e-01, -2.70084679e-01,\n",
      "         4.01939936e-02, -3.29875022e-01,  3.16334218e-01,\n",
      "         1.34185955e-01],\n",
      "       [ 4.27485406e-01, -3.27064067e-01, -2.04202235e-01,\n",
      "        -6.99030399e-01,  2.79052794e-01,  1.89856723e-01,\n",
      "        -1.21137097e-01, -1.11627311e-01,  2.10434154e-01,\n",
      "        -2.69809127e-01],\n",
      "       [ 1.82001039e-01,  2.23696917e-01, -3.06640983e-01,\n",
      "         3.05421740e-01,  3.44881207e-01,  1.00533172e-01,\n",
      "        -4.85026509e-01, -5.92860207e-02,  1.51576564e-01,\n",
      "        -5.14591098e-01],\n",
      "       [-5.84954977e-01, -2.95417577e-01, -5.46777785e-01,\n",
      "         2.42040038e-01,  3.28004003e-01,  1.59587905e-01,\n",
      "         7.61381090e-02, -2.86686957e-01,  2.18154564e-02,\n",
      "         1.67150468e-01],\n",
      "       [ 2.38673627e-01, -2.03145012e-01, -1.96744621e-01,\n",
      "         4.18197513e-01,  2.66605020e-01,  4.57566306e-02,\n",
      "        -5.37132144e-01,  1.59371018e-01, -9.68088582e-02,\n",
      "        -1.93665713e-01],\n",
      "       [ 4.43876505e-01, -4.49468940e-02, -3.77707988e-01,\n",
      "        -3.24415267e-01, -5.34435570e-01, -3.05443317e-01,\n",
      "         3.44863206e-01,  4.08807516e-01, -3.08111370e-01,\n",
      "        -1.15033284e-01],\n",
      "       [ 3.01673859e-01, -4.94536668e-01,  3.84858191e-01,\n",
      "        -3.81940864e-02, -1.56218395e-01, -1.66627243e-01,\n",
      "         3.53654712e-01, -5.31691909e-01, -2.22806007e-01,\n",
      "         2.47150600e-01],\n",
      "       [-2.56246120e-01,  6.79578632e-02,  2.57042289e-01,\n",
      "         6.87025264e-02, -1.79887906e-01,  2.97011852e-01,\n",
      "         2.63569653e-01, -3.43105495e-01,  2.75629282e-01,\n",
      "        -4.62061733e-01],\n",
      "       [-3.12022060e-01,  1.05220735e-01,  2.55576819e-01,\n",
      "         3.58215123e-01, -9.86518487e-02,  1.68114856e-01,\n",
      "        -2.92359233e-01,  3.35805297e-01, -7.67765641e-02,\n",
      "         1.86000586e-01],\n",
      "       [ 3.72817189e-01, -8.66607785e-01, -2.27365524e-01,\n",
      "         2.62657672e-01,  2.00151339e-01, -2.28093430e-01,\n",
      "        -3.29332322e-01, -3.09112936e-01, -1.04874238e-01,\n",
      "        -2.61845291e-01],\n",
      "       [-3.44024822e-02, -5.35596550e-01,  1.16484344e-01,\n",
      "        -2.07449332e-01, -1.02556601e-01,  2.84741610e-01,\n",
      "        -3.68878901e-01, -2.77907163e-01,  1.84298187e-01,\n",
      "        -3.25149089e-01],\n",
      "       [-4.61635180e-02,  1.21336356e-01, -4.51275826e-01,\n",
      "         3.22027057e-01, -3.80462676e-01, -5.86499162e-02,\n",
      "         2.32954144e-01,  4.82837446e-02,  3.25424582e-01,\n",
      "         3.49387974e-01],\n",
      "       [-4.45245117e-01, -7.29507059e-02,  1.77745372e-01,\n",
      "        -5.71912527e-01,  2.20185503e-01, -1.53297350e-01,\n",
      "        -1.76782236e-01,  7.96067044e-02,  2.82425493e-01,\n",
      "         3.64450753e-01],\n",
      "       [-1.36272281e-01, -3.25208068e-01, -9.45556313e-02,\n",
      "         2.25409880e-01, -2.72652656e-01, -1.01316161e-02,\n",
      "         1.62832990e-01,  8.82470980e-02,  2.08216570e-02,\n",
      "        -2.12090328e-01],\n",
      "       [ 1.98759623e-02, -4.21774983e-01, -1.72957838e-01,\n",
      "         1.43236741e-01, -4.56036776e-01,  3.18024546e-01,\n",
      "        -5.42023122e-01,  1.83543228e-02,  2.82774866e-01,\n",
      "         4.82789539e-02],\n",
      "       [-3.59324396e-01, -1.99924931e-01,  1.71759829e-01,\n",
      "         7.24071115e-02,  9.57655013e-02,  1.80253759e-01,\n",
      "         1.82737246e-01,  1.03598110e-01, -8.70320201e-02,\n",
      "        -6.46396577e-01],\n",
      "       [-2.94488639e-01,  3.39871913e-01,  1.15736574e-01,\n",
      "        -3.51269335e-01,  2.79930055e-01, -4.57643300e-01,\n",
      "         1.93585098e-01,  2.38633916e-01, -6.85583055e-01,\n",
      "         1.86513513e-01],\n",
      "       [ 4.08090860e-01, -3.49424571e-01,  1.12748258e-01,\n",
      "         6.53208718e-02, -5.16735554e-01, -4.17436242e-01,\n",
      "         2.57961936e-02, -4.23063964e-01,  2.36102957e-02,\n",
      "         1.45628557e-01],\n",
      "       [-7.46384710e-02, -4.22812253e-01, -3.05564225e-01,\n",
      "         2.59300023e-01, -7.52635479e-01,  4.10980761e-01,\n",
      "         8.24433491e-02, -4.32826042e-01, -2.69334316e-02,\n",
      "        -2.07275346e-01],\n",
      "       [-4.41705994e-02, -1.60955772e-01, -6.81063905e-03,\n",
      "         3.41389775e-01, -5.43433607e-01,  7.40517303e-02,\n",
      "         3.06193233e-01, -4.14743304e-01, -3.58203918e-01,\n",
      "        -7.96579123e-01],\n",
      "       [-1.82873443e-01,  4.27423678e-02,  3.44023824e-01,\n",
      "         8.34098011e-02,  7.87350833e-02, -4.03250486e-01,\n",
      "        -1.76235616e-01, -9.35423449e-02,  3.54347080e-01,\n",
      "        -6.10074520e-01],\n",
      "       [ 2.38749117e-01, -7.75103718e-02, -3.59331816e-01,\n",
      "        -3.94043207e-01,  1.76823065e-01,  2.95280129e-01,\n",
      "         3.74162376e-01,  1.58293650e-01,  3.72295320e-01,\n",
      "        -4.41480994e-01],\n",
      "       [ 1.89753100e-01,  1.37754783e-01, -2.27536842e-01,\n",
      "        -3.82297277e-01, -1.12012655e-01, -2.00234968e-02,\n",
      "         1.00010380e-01, -4.08731669e-01, -2.52032578e-01,\n",
      "        -5.68507649e-02],\n",
      "       [ 1.76085874e-01, -2.71829456e-01,  3.43000710e-01,\n",
      "         1.58193767e-01, -4.47925866e-01, -4.85734105e-01,\n",
      "        -2.09999233e-01,  1.30999431e-01,  1.84304416e-01,\n",
      "         4.30065662e-01],\n",
      "       [-5.72062433e-01,  2.78727829e-01,  4.13249105e-01,\n",
      "        -4.22654971e-02, -6.82849884e-01,  9.71729308e-02,\n",
      "        -3.59479070e-01,  1.51138321e-01,  3.83732110e-01,\n",
      "        -4.50246811e-01],\n",
      "       [ 2.20692024e-01, -5.57490826e-01,  1.30180418e-01,\n",
      "        -1.11834161e-01,  4.06446576e-01, -3.30860883e-01,\n",
      "        -2.53949136e-01, -1.59969658e-01,  1.00631125e-01,\n",
      "         3.66450459e-01],\n",
      "       [-1.08905755e-01, -4.87370074e-01,  2.12793216e-01,\n",
      "        -2.28786334e-01, -1.44681811e-01, -3.37857842e-01,\n",
      "        -8.29938501e-02, -1.43125534e-01,  3.70622814e-01,\n",
      "         2.43261859e-01],\n",
      "       [-5.27097166e-01,  1.49475813e-01,  1.33007661e-01,\n",
      "         1.19045533e-01,  1.06983989e-01, -6.85427904e-01,\n",
      "        -2.79582273e-02,  2.10048929e-01, -2.68986464e-01,\n",
      "         2.12417934e-02],\n",
      "       [ 1.51749048e-02, -1.24404363e-01, -3.47107500e-01,\n",
      "        -7.52780557e-01,  3.04765552e-01, -1.01689450e-01,\n",
      "        -8.90488103e-02,  7.69944042e-02, -4.09635007e-01,\n",
      "         6.39735907e-02],\n",
      "       [-3.58080745e-01, -7.27494061e-01,  3.75579752e-04,\n",
      "        -5.36924601e-01,  2.66378850e-01,  3.26818198e-01,\n",
      "         2.41808429e-01,  1.41989663e-01,  1.73941553e-01,\n",
      "         2.71050185e-02]], dtype=float32), array([-0.10470653, -0.05735873, -0.0491758 , -0.0285249 ,  0.09029432,\n",
      "        0.1609851 , -0.11587895, -0.02632838, -0.02467578,  0.02720272],\n",
      "      dtype=float32)]\n"
     ]
    }
   ],
   "source": [
    "weight = model1.get_weights()\n",
    "print(weight)"
   ]
  },
  {
   "cell_type": "markdown",
   "metadata": {},
   "source": [
    "model.get_weights()方法可以获取模型的参数"
   ]
  }
 ],
 "metadata": {
  "kernelspec": {
   "display_name": "tf2",
   "language": "python",
   "name": "tf2"
  },
  "language_info": {
   "codemirror_mode": {
    "name": "ipython",
    "version": 3
   },
   "file_extension": ".py",
   "mimetype": "text/x-python",
   "name": "python",
   "nbconvert_exporter": "python",
   "pygments_lexer": "ipython3",
   "version": "3.7.11"
  }
 },
 "nbformat": 4,
 "nbformat_minor": 2
}
